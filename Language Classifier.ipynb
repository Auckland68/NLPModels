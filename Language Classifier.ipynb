{
 "cells": [
  {
   "cell_type": "markdown",
   "metadata": {},
   "source": [
    "# Language Classifier"
   ]
  },
  {
   "cell_type": "code",
   "execution_count": 142,
   "metadata": {},
   "outputs": [],
   "source": [
    "import tensorflow as tf\n",
    "from tensorflow import keras\n",
    "from keras import Sequential,models,preprocessing\n",
    "from keras.layers import Dense,Embedding, Flatten\n",
    "import numpy as np \n",
    "import pandas as pd \n",
    "\n",
    "from sklearn import model_selection\n",
    "from sklearn.preprocessing import LabelEncoder \n",
    "from sklearn.model_selection import train_test_split\n",
    "from sklearn.metrics import confusion_matrix\n",
    "import matplotlib.pyplot as plt\n",
    "import seaborn as sns\n",
    "\n",
    "from nltk.corpus import stopwords \n",
    "stop = stopwords.words('english')\n",
    "\n",
    "import warnings\n",
    "warnings.filterwarnings(\"ignore\")"
   ]
  },
  {
   "cell_type": "code",
   "execution_count": 149,
   "metadata": {},
   "outputs": [],
   "source": [
    "#! pip install Wikipedia"
   ]
  },
  {
   "cell_type": "code",
   "execution_count": 3,
   "metadata": {},
   "outputs": [
    {
     "data": {
      "text/plain": [
       "'1.14.0'"
      ]
     },
     "execution_count": 3,
     "metadata": {},
     "output_type": "execute_result"
    }
   ],
   "source": [
    "tf.__version__"
   ]
  },
  {
   "cell_type": "code",
   "execution_count": 107,
   "metadata": {},
   "outputs": [],
   "source": [
    "train = pd.read_csv('datasets/train_languages.csv')"
   ]
  },
  {
   "cell_type": "code",
   "execution_count": 108,
   "metadata": {},
   "outputs": [
    {
     "data": {
      "text/html": [
       "<div>\n",
       "<style scoped>\n",
       "    .dataframe tbody tr th:only-of-type {\n",
       "        vertical-align: middle;\n",
       "    }\n",
       "\n",
       "    .dataframe tbody tr th {\n",
       "        vertical-align: top;\n",
       "    }\n",
       "\n",
       "    .dataframe thead th {\n",
       "        text-align: right;\n",
       "    }\n",
       "</style>\n",
       "<table border=\"1\" class=\"dataframe\">\n",
       "  <thead>\n",
       "    <tr style=\"text-align: right;\">\n",
       "      <th></th>\n",
       "      <th>sentence</th>\n",
       "      <th>language</th>\n",
       "    </tr>\n",
       "  </thead>\n",
       "  <tbody>\n",
       "    <tr>\n",
       "      <th>0</th>\n",
       "      <td>Jean Beauverie (Fontaines-sur-Saône, 18 febbra...</td>\n",
       "      <td>italian</td>\n",
       "    </tr>\n",
       "    <tr>\n",
       "      <th>1</th>\n",
       "      <td>Il pinguino saltarocce (Eudyptes chrysocome (F...</td>\n",
       "      <td>italian</td>\n",
       "    </tr>\n",
       "    <tr>\n",
       "      <th>2</th>\n",
       "      <td>Maison Ikkoku - Cara dolce Kyoko (めぞん一刻 Mezon ...</td>\n",
       "      <td>italian</td>\n",
       "    </tr>\n",
       "    <tr>\n",
       "      <th>3</th>\n",
       "      <td>La mia città è un singolo della cantante itali...</td>\n",
       "      <td>italian</td>\n",
       "    </tr>\n",
       "    <tr>\n",
       "      <th>4</th>\n",
       "      <td>L'Armata Rossa dei Lavoratori e dei Contadini ...</td>\n",
       "      <td>italian</td>\n",
       "    </tr>\n",
       "  </tbody>\n",
       "</table>\n",
       "</div>"
      ],
      "text/plain": [
       "                                            sentence language\n",
       "0  Jean Beauverie (Fontaines-sur-Saône, 18 febbra...  italian\n",
       "1  Il pinguino saltarocce (Eudyptes chrysocome (F...  italian\n",
       "2  Maison Ikkoku - Cara dolce Kyoko (めぞん一刻 Mezon ...  italian\n",
       "3  La mia città è un singolo della cantante itali...  italian\n",
       "4  L'Armata Rossa dei Lavoratori e dei Contadini ...  italian"
      ]
     },
     "execution_count": 108,
     "metadata": {},
     "output_type": "execute_result"
    }
   ],
   "source": [
    "train.head()"
   ]
  },
  {
   "cell_type": "code",
   "execution_count": 109,
   "metadata": {},
   "outputs": [
    {
     "data": {
      "text/plain": [
       "(3633, 2)"
      ]
     },
     "execution_count": 109,
     "metadata": {},
     "output_type": "execute_result"
    }
   ],
   "source": [
    "train.shape"
   ]
  },
  {
   "cell_type": "code",
   "execution_count": 110,
   "metadata": {},
   "outputs": [],
   "source": [
    "X = train[[\"sentence\"]]\n",
    "y = train[\"language\"]"
   ]
  },
  {
   "cell_type": "code",
   "execution_count": 111,
   "metadata": {},
   "outputs": [],
   "source": [
    "# Encode languages as numerical and then create one-hot encoding representation\n",
    "encoder = LabelEncoder()\n",
    "y = encoder.fit_transform(y)\n",
    "y = keras.utils.to_categorical(y,num_classes=4)"
   ]
  },
  {
   "cell_type": "code",
   "execution_count": 112,
   "metadata": {},
   "outputs": [],
   "source": [
    "train['sentence_lower'] = train[\"sentence\"].str.lower()\n",
    "train['sentence_no_punctuation'] = train['sentence_lower'].str.replace('[^\\w\\s]','')\n",
    "train['sentence_no_punctuation'] = train[\"sentence_no_punctuation\"].fillna(\"fillna\")"
   ]
  },
  {
   "cell_type": "code",
   "execution_count": 113,
   "metadata": {},
   "outputs": [
    {
     "name": "stdout",
     "output_type": "stream",
     "text": [
      "51630\n"
     ]
    }
   ],
   "source": [
    "# Set parameters of max features and the length of the embedding, tokenize, get the length of the word index and add one\n",
    "# due to python indexing to get the length of the vocabulary\n",
    "max_features=5000 \n",
    "maxlen=400 \n",
    "\n",
    "tok = tf.keras.preprocessing.text.Tokenizer(num_words=max_features)\n",
    "tok.fit_on_texts(list(train['sentence_no_punctuation']))\n",
    "\n",
    "print(len(tok.word_index))\n",
    "vocab_size = len(tok.word_index) + 1 "
   ]
  },
  {
   "cell_type": "code",
   "execution_count": 114,
   "metadata": {},
   "outputs": [],
   "source": [
    "# Convert the tokenized sentences to a sequence and pad the sequence to equal length\n",
    "train_df = tok.texts_to_sequences(list(train['sentence_no_punctuation'])) \n",
    "train_df = tf.keras.preprocessing.sequence.pad_sequences(train_df, maxlen=maxlen)"
   ]
  },
  {
   "cell_type": "code",
   "execution_count": 116,
   "metadata": {},
   "outputs": [],
   "source": [
    "# Create the training and test sets as 90 to 10 split\n",
    "X_train, X_test, y_train, y_test = train_test_split(train_df, y, test_size=0.1, random_state=42)"
   ]
  },
  {
   "cell_type": "code",
   "execution_count": 117,
   "metadata": {},
   "outputs": [
    {
     "name": "stdout",
     "output_type": "stream",
     "text": [
      "(3269, 400) (364, 400) (3269, 4) (364, 4)\n"
     ]
    }
   ],
   "source": [
    "print(X_train.shape, X_test.shape, y_train.shape, y_test.shape)"
   ]
  },
  {
   "cell_type": "code",
   "execution_count": 128,
   "metadata": {},
   "outputs": [
    {
     "name": "stdout",
     "output_type": "stream",
     "text": [
      "Model: \"sequential_2\"\n",
      "_________________________________________________________________\n",
      "Layer (type)                 Output Shape              Param #   \n",
      "=================================================================\n",
      "embedding_1 (Embedding)      (None, 400, 50)           2581550   \n",
      "_________________________________________________________________\n",
      "flatten_1 (Flatten)          (None, 20000)             0         \n",
      "_________________________________________________________________\n",
      "dense_1 (Dense)              (None, 4)                 80004     \n",
      "=================================================================\n",
      "Total params: 2,661,554\n",
      "Trainable params: 2,661,554\n",
      "Non-trainable params: 0\n",
      "_________________________________________________________________\n"
     ]
    }
   ],
   "source": [
    "# Embedding dimension size and create the model\n",
    "embedding_dim = 50\n",
    "\n",
    "model = Sequential()\n",
    "model.add(Embedding(input_dim=vocab_size, output_dim=embedding_dim,input_length=maxlen))\n",
    "model.add(Flatten()),\n",
    "model.add(Dense(4,activation=\"softmax\"))\n",
    "model.compile(optimizer = 'adam',loss = 'categorical_crossentropy',metrics = ['accuracy'])\n",
    "model.summary()"
   ]
  },
  {
   "cell_type": "code",
   "execution_count": 129,
   "metadata": {},
   "outputs": [
    {
     "name": "stdout",
     "output_type": "stream",
     "text": [
      "WARNING:tensorflow:From C:\\Users\\Imy Hull\\anaconda3\\envs\\py36\\lib\\site-packages\\keras\\backend\\tensorflow_backend.py:422: The name tf.global_variables is deprecated. Please use tf.compat.v1.global_variables instead.\n",
      "\n",
      "Epoch 1/3\n",
      "3269/3269 [==============================] - 5s 2ms/step - loss: 0.8193 - accuracy: 0.7323\n",
      "Epoch 2/3\n",
      "3269/3269 [==============================] - 6s 2ms/step - loss: 0.0781 - accuracy: 0.9966\n",
      "Epoch 3/3\n",
      "3269/3269 [==============================] - 5s 2ms/step - loss: 0.0260 - accuracy: 0.9976\n"
     ]
    },
    {
     "data": {
      "text/plain": [
       "<keras.callbacks.callbacks.History at 0x1f889135390>"
      ]
     },
     "execution_count": 129,
     "metadata": {},
     "output_type": "execute_result"
    }
   ],
   "source": [
    "model.fit(np.array(X_train), np.array(y_train), epochs=3)"
   ]
  },
  {
   "cell_type": "code",
   "execution_count": 130,
   "metadata": {},
   "outputs": [
    {
     "name": "stdout",
     "output_type": "stream",
     "text": [
      "364/364 [==============================] - 0s 356us/step\n"
     ]
    },
    {
     "data": {
      "text/plain": [
       "[0.012854333926033188, 1.0]"
      ]
     },
     "execution_count": 130,
     "metadata": {},
     "output_type": "execute_result"
    }
   ],
   "source": [
    "model.evaluate(np.array(X_test), np.array(y_test)) "
   ]
  },
  {
   "cell_type": "code",
   "execution_count": 132,
   "metadata": {},
   "outputs": [],
   "source": [
    "y_pred = model.predict(X_test)\n",
    "cm = confusion_matrix(y_pred.argmax(axis=1), y_test.argmax(axis=1))"
   ]
  },
  {
   "cell_type": "code",
   "execution_count": 138,
   "metadata": {},
   "outputs": [
    {
     "data": {
      "image/png": "[encoded data removed]",
      "text/plain": [
       "<Figure size 432x288 with 2 Axes>"
      ]
     },
     "metadata": {
      "needs_background": "light"
     },
     "output_type": "display_data"
    }
   ],
   "source": [
    "sns.heatmap(cm, annot= True)\n",
    "plt.show()"
   ]
  },
  {
   "cell_type": "code",
   "execution_count": 139,
   "metadata": {},
   "outputs": [
    {
     "name": "stdout",
     "output_type": "stream",
     "text": [
      "english [0]\n",
      "french [1]\n",
      "italian [2]\n",
      "spanish [3]\n"
     ]
    }
   ],
   "source": [
    "print('english', encoder.transform(['english']))\n",
    "print('french', encoder.transform(['french']))\n",
    "print('italian', encoder.transform(['italian']))\n",
    "print('spanish', encoder.transform(['spanish']))"
   ]
  },
  {
   "cell_type": "code",
   "execution_count": 140,
   "metadata": {},
   "outputs": [],
   "source": [
    "#new_text = [\"tensorflow is a great tool you can find a lot of tutorials from packt\"]\n",
    "new_text = [\"tensorflow est un excellent outil vous pouvez trouver beaucoup de tutoriels de packt\"]\n",
    "#new_text = [\"tensorflow è un ottimo strumento puoi trovare molti tutorial di packt\"]\n",
    "#new_text = [\"tensorflow es una gran herramienta puedes encontrar muchos tutoriales de packt\"]"
   ]
  },
  {
   "cell_type": "code",
   "execution_count": 143,
   "metadata": {},
   "outputs": [],
   "source": [
    "test_text = tok.texts_to_sequences(new_text) \n",
    "test_text = preprocessing.sequence.pad_sequences(test_text, maxlen=maxlen)"
   ]
  },
  {
   "cell_type": "code",
   "execution_count": 144,
   "metadata": {},
   "outputs": [
    {
     "name": "stdout",
     "output_type": "stream",
     "text": [
      "1\n",
      "[[0.02591038 0.6578947  0.11632952 0.19986543]]\n"
     ]
    }
   ],
   "source": [
    "np.set_printoptions(suppress=True)\n",
    "predictions = model.predict(test_text)\n",
    "print(predictions.argmax())\n",
    "print(predictions)"
   ]
  },
  {
   "cell_type": "code",
   "execution_count": 150,
   "metadata": {},
   "outputs": [
    {
     "name": "stdout",
     "output_type": "stream",
     "text": [
      "0\n",
      "1\n",
      "2\n",
      "3\n",
      "4\n"
     ]
    }
   ],
   "source": [
    "import wikipedia\n",
    "\n",
    "#english: en\n",
    "#italian: it\n",
    "#french: fr\n",
    "#spanish: es\n",
    "\n",
    "new_wiki_text = []\n",
    "wikipedia.set_lang('it')\n",
    "for i in range(0, 5):\n",
    "    print(i)\n",
    "    random = wikipedia.random(1)\n",
    "       \n",
    "    try:\n",
    "        new_wiki_text.append([wikipedia.page(random).summary])\n",
    "    except wikipedia.exceptions.DisambiguationError as e:\n",
    "        random = wikipedia.random(1)"
   ]
  },
  {
   "cell_type": "code",
   "execution_count": 151,
   "metadata": {},
   "outputs": [
    {
     "data": {
      "text/html": [
       "<div>\n",
       "<style scoped>\n",
       "    .dataframe tbody tr th:only-of-type {\n",
       "        vertical-align: middle;\n",
       "    }\n",
       "\n",
       "    .dataframe tbody tr th {\n",
       "        vertical-align: top;\n",
       "    }\n",
       "\n",
       "    .dataframe thead th {\n",
       "        text-align: right;\n",
       "    }\n",
       "</style>\n",
       "<table border=\"1\" class=\"dataframe\">\n",
       "  <thead>\n",
       "    <tr style=\"text-align: right;\">\n",
       "      <th></th>\n",
       "      <th>sentence</th>\n",
       "    </tr>\n",
       "  </thead>\n",
       "  <tbody>\n",
       "    <tr>\n",
       "      <th>0</th>\n",
       "      <td>Giovanni Grasso (Roma, 14 ottobre 1962) è un g...</td>\n",
       "    </tr>\n",
       "    <tr>\n",
       "      <th>1</th>\n",
       "      <td>La storia degli ebrei in Scozia risale almeno ...</td>\n",
       "    </tr>\n",
       "    <tr>\n",
       "      <th>2</th>\n",
       "      <td>James Beaumont Neilson (Shettleston, 22 giugno...</td>\n",
       "    </tr>\n",
       "    <tr>\n",
       "      <th>3</th>\n",
       "      <td>Il Duca di Genova è stato un incrociatore ausi...</td>\n",
       "    </tr>\n",
       "  </tbody>\n",
       "</table>\n",
       "</div>"
      ],
      "text/plain": [
       "                                            sentence\n",
       "0  Giovanni Grasso (Roma, 14 ottobre 1962) è un g...\n",
       "1  La storia degli ebrei in Scozia risale almeno ...\n",
       "2  James Beaumont Neilson (Shettleston, 22 giugno...\n",
       "3  Il Duca di Genova è stato un incrociatore ausi..."
      ]
     },
     "execution_count": 151,
     "metadata": {},
     "output_type": "execute_result"
    }
   ],
   "source": [
    "new_wiki_text = pd.DataFrame(new_wiki_text)\n",
    "new_wiki_text.columns = ['sentence']\n",
    "new_wiki_text"
   ]
  },
  {
   "cell_type": "code",
   "execution_count": 152,
   "metadata": {},
   "outputs": [],
   "source": [
    "new_wiki_text['sentence_lower'] = new_wiki_text[\"sentence\"].str.lower()\n",
    "new_wiki_text['sentence_no_punctuation'] = new_wiki_text['sentence_lower'].str.replace('[^\\w\\s]','')\n",
    "new_wiki_text['sentence_no_punctuation'] = new_wiki_text[\"sentence_no_punctuation\"].fillna(\"fillna\")\n",
    "\n",
    "np.set_printoptions(suppress=True)\n",
    "test_wiki_text = tok.texts_to_sequences(list(new_wiki_text['sentence_no_punctuation'] )) \n",
    "test_wiki_text = tf.keras.preprocessing.sequence.pad_sequences(test_wiki_text, maxlen=maxlen) "
   ]
  },
  {
   "cell_type": "code",
   "execution_count": 153,
   "metadata": {},
   "outputs": [
    {
     "name": "stdout",
     "output_type": "stream",
     "text": [
      "[[0.00017843 0.00034713 0.9990589  0.00041558]\n",
      " [0.00025783 0.00006549 0.9995498  0.00012686]\n",
      " [0.01260985 0.01754633 0.95367765 0.01616605]\n",
      " [0.00078198 0.00223243 0.99578816 0.00119738]]\n"
     ]
    }
   ],
   "source": [
    "predictions = model.predict(test_wiki_text)\n",
    "print(predictions)"
   ]
  },
  {
   "cell_type": "code",
   "execution_count": 154,
   "metadata": {},
   "outputs": [
    {
     "name": "stdout",
     "output_type": "stream",
     "text": [
      "english [0]\n",
      "french [1]\n",
      "italian [2]\n",
      "spanish [3]\n"
     ]
    }
   ],
   "source": [
    "print('english', encoder.transform(['english']))\n",
    "print('french', encoder.transform(['french']))\n",
    "print('italian', encoder.transform(['italian']))\n",
    "print('spanish', encoder.transform(['spanish']))"
   ]
  },
  {
   "cell_type": "code",
   "execution_count": null,
   "metadata": {},
   "outputs": [],
   "source": []
  }
 ],
 "metadata": {
  "kernelspec": {
   "display_name": "Python 3",
   "language": "python",
   "name": "python3"
  },
  "language_info": {
   "codemirror_mode": {
    "name": "ipython",
    "version": 3
   },
   "file_extension": ".py",
   "mimetype": "text/x-python",
   "name": "python",
   "nbconvert_exporter": "python",
   "pygments_lexer": "ipython3",
   "version": "3.6.10"
  }
 },
 "nbformat": 4,
 "nbformat_minor": 4
}
