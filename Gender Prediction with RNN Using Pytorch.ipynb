{
 "cells": [
  {
   "cell_type": "markdown",
   "id": "c9e25dc9",
   "metadata": {},
   "source": [
    "# Import Libraries and Data"
   ]
  },
  {
   "cell_type": "code",
   "execution_count": 49,
   "id": "9c267594",
   "metadata": {},
   "outputs": [],
   "source": [
    "import pandas as pd\n",
    "from sklearn import preprocessing\n",
    "\n",
    "import string\n",
    "import torch\n",
    "import torch.nn as nn\n",
    "import random\n"
   ]
  },
  {
   "cell_type": "code",
   "execution_count": 6,
   "id": "9d5ab895",
   "metadata": {},
   "outputs": [
    {
     "data": {
      "text/plain": [
       "(10132, 2)"
      ]
     },
     "execution_count": 6,
     "metadata": {},
     "output_type": "execute_result"
    }
   ],
   "source": [
    "df = pd.read_csv(\"Datasets/names.csv\")\n",
    "df.shape"
   ]
  },
  {
   "cell_type": "code",
   "execution_count": 7,
   "id": "51df1fee",
   "metadata": {},
   "outputs": [
    {
     "data": {
      "text/html": [
       "<div>\n",
       "<style scoped>\n",
       "    .dataframe tbody tr th:only-of-type {\n",
       "        vertical-align: middle;\n",
       "    }\n",
       "\n",
       "    .dataframe tbody tr th {\n",
       "        vertical-align: top;\n",
       "    }\n",
       "\n",
       "    .dataframe thead th {\n",
       "        text-align: right;\n",
       "    }\n",
       "</style>\n",
       "<table border=\"1\" class=\"dataframe\">\n",
       "  <thead>\n",
       "    <tr style=\"text-align: right;\">\n",
       "      <th></th>\n",
       "      <th>Name</th>\n",
       "      <th>Gender</th>\n",
       "    </tr>\n",
       "  </thead>\n",
       "  <tbody>\n",
       "    <tr>\n",
       "      <th>0</th>\n",
       "      <td>Aamir</td>\n",
       "      <td>Male</td>\n",
       "    </tr>\n",
       "    <tr>\n",
       "      <th>1</th>\n",
       "      <td>Aaron</td>\n",
       "      <td>Female</td>\n",
       "    </tr>\n",
       "    <tr>\n",
       "      <th>2</th>\n",
       "      <td>Aaron</td>\n",
       "      <td>Male</td>\n",
       "    </tr>\n",
       "    <tr>\n",
       "      <th>3</th>\n",
       "      <td>Abagael</td>\n",
       "      <td>Female</td>\n",
       "    </tr>\n",
       "    <tr>\n",
       "      <th>4</th>\n",
       "      <td>Abagail</td>\n",
       "      <td>Female</td>\n",
       "    </tr>\n",
       "  </tbody>\n",
       "</table>\n",
       "</div>"
      ],
      "text/plain": [
       "      Name  Gender\n",
       "0    Aamir    Male\n",
       "1    Aaron  Female\n",
       "2    Aaron    Male\n",
       "3  Abagael  Female\n",
       "4  Abagail  Female"
      ]
     },
     "execution_count": 7,
     "metadata": {},
     "output_type": "execute_result"
    }
   ],
   "source": [
    "df.head()"
   ]
  },
  {
   "cell_type": "code",
   "execution_count": 10,
   "id": "cd9c5ec4",
   "metadata": {},
   "outputs": [
    {
     "data": {
      "text/plain": [
       "9543"
      ]
     },
     "execution_count": 10,
     "metadata": {},
     "output_type": "execute_result"
    }
   ],
   "source": [
    "len(df[\"Name\"].unique())"
   ]
  },
  {
   "cell_type": "markdown",
   "id": "678df664",
   "metadata": {},
   "source": [
    "# Preprocessing"
   ]
  },
  {
   "cell_type": "code",
   "execution_count": 13,
   "id": "718ce3df",
   "metadata": {},
   "outputs": [
    {
     "data": {
      "text/plain": [
       "9543"
      ]
     },
     "execution_count": 13,
     "metadata": {},
     "output_type": "execute_result"
    }
   ],
   "source": [
    "# Drop the duplicates and drop either the male or female name at random from the dataset\n",
    "import random\n",
    "df = df.drop_duplicates(subset=['Name'],keep=random.choice(['first', 'last']))\n",
    "len(df)"
   ]
  },
  {
   "cell_type": "code",
   "execution_count": 15,
   "id": "1815217d",
   "metadata": {},
   "outputs": [
    {
     "data": {
      "text/html": [
       "<div>\n",
       "<style scoped>\n",
       "    .dataframe tbody tr th:only-of-type {\n",
       "        vertical-align: middle;\n",
       "    }\n",
       "\n",
       "    .dataframe tbody tr th {\n",
       "        vertical-align: top;\n",
       "    }\n",
       "\n",
       "    .dataframe thead th {\n",
       "        text-align: right;\n",
       "    }\n",
       "</style>\n",
       "<table border=\"1\" class=\"dataframe\">\n",
       "  <thead>\n",
       "    <tr style=\"text-align: right;\">\n",
       "      <th></th>\n",
       "      <th>Name</th>\n",
       "      <th>Gender</th>\n",
       "    </tr>\n",
       "  </thead>\n",
       "  <tbody>\n",
       "    <tr>\n",
       "      <th>0</th>\n",
       "      <td>Aamir</td>\n",
       "      <td>1</td>\n",
       "    </tr>\n",
       "    <tr>\n",
       "      <th>2</th>\n",
       "      <td>Aaron</td>\n",
       "      <td>1</td>\n",
       "    </tr>\n",
       "    <tr>\n",
       "      <th>3</th>\n",
       "      <td>Abagael</td>\n",
       "      <td>0</td>\n",
       "    </tr>\n",
       "    <tr>\n",
       "      <th>4</th>\n",
       "      <td>Abagail</td>\n",
       "      <td>0</td>\n",
       "    </tr>\n",
       "    <tr>\n",
       "      <th>5</th>\n",
       "      <td>Abbe</td>\n",
       "      <td>0</td>\n",
       "    </tr>\n",
       "  </tbody>\n",
       "</table>\n",
       "</div>"
      ],
      "text/plain": [
       "      Name  Gender\n",
       "0    Aamir       1\n",
       "2    Aaron       1\n",
       "3  Abagael       0\n",
       "4  Abagail       0\n",
       "5     Abbe       0"
      ]
     },
     "execution_count": 15,
     "metadata": {},
     "output_type": "execute_result"
    }
   ],
   "source": [
    "# Encode gender as numerical\n",
    "le = preprocessing.LabelEncoder()\n",
    "df['Gender'] = le.fit_transform(df['Gender'])\n",
    "df.head()"
   ]
  },
  {
   "cell_type": "code",
   "execution_count": 16,
   "id": "b9ec15e1",
   "metadata": {},
   "outputs": [],
   "source": [
    "genders=['Female', 'Male']"
   ]
  },
  {
   "cell_type": "code",
   "execution_count": 18,
   "id": "5206186c",
   "metadata": {},
   "outputs": [
    {
     "data": {
      "text/plain": [
       "\"abcdefghijklmnopqrstuvwxyzABCDEFGHIJKLMNOPQRSTUVWXYZ .,;'\""
      ]
     },
     "execution_count": 18,
     "metadata": {},
     "output_type": "execute_result"
    }
   ],
   "source": [
    "# Create a string of all the ascii characters plus some punctuation\n",
    "let = string.ascii_letters + \" .,;'\"\n",
    "num_lets = len(let)\n",
    "let"
   ]
  },
  {
   "cell_type": "code",
   "execution_count": 21,
   "id": "164332ed",
   "metadata": {},
   "outputs": [],
   "source": [
    "# Function to convert to tensor\n",
    "\n",
    "def convert(name):\n",
    "    t = torch.zeros(len(name), 1, num_lets)  # 3d tensor of all ones.\n",
    "    for i, letter in enumerate(name):        # iterate through all the characters in name\n",
    "        t[i][0][let.find(letter)] = 1        # set the value to one for each of the characters in a name\n",
    "        \n",
    "    return t"
   ]
  },
  {
   "cell_type": "code",
   "execution_count": 23,
   "id": "5a86b61c",
   "metadata": {},
   "outputs": [
    {
     "data": {
      "text/plain": [
       "tensor([[[1., 0., 0., 0., 0., 0., 0., 0., 0., 0., 0., 0., 0., 0., 0., 0., 0.,\n",
       "          0., 0., 0., 0., 0., 0., 0., 0., 0., 0., 0., 0., 0., 0., 0., 0., 0.,\n",
       "          0., 0., 0., 0., 0., 0., 0., 0., 0., 0., 0., 0., 0., 0., 0., 0., 0.,\n",
       "          0., 0., 0., 0., 0., 0.]]])"
      ]
     },
     "execution_count": 23,
     "metadata": {},
     "output_type": "execute_result"
    }
   ],
   "source": [
    "convert('a')"
   ]
  },
  {
   "cell_type": "code",
   "execution_count": 24,
   "id": "2316eae0",
   "metadata": {},
   "outputs": [
    {
     "data": {
      "text/plain": [
       "tensor([[[0., 0., 0., 0., 0., 0., 0., 0., 0., 0., 0., 0., 0., 0., 0., 0., 0.,\n",
       "          0., 0., 0., 0., 0., 0., 0., 0., 0., 1., 0., 0., 0., 0., 0., 0., 0.,\n",
       "          0., 0., 0., 0., 0., 0., 0., 0., 0., 0., 0., 0., 0., 0., 0., 0., 0.,\n",
       "          0., 0., 0., 0., 0., 0.]]])"
      ]
     },
     "execution_count": 24,
     "metadata": {},
     "output_type": "execute_result"
    }
   ],
   "source": [
    "convert('A')"
   ]
  },
  {
   "cell_type": "markdown",
   "id": "19582fe6",
   "metadata": {},
   "source": [
    "# Build model"
   ]
  },
  {
   "cell_type": "code",
   "execution_count": 26,
   "id": "fca87e5c",
   "metadata": {},
   "outputs": [],
   "source": [
    "# Define class for RNN - credit Janini Ravi (Pluralsight)\n",
    "\n",
    "class RNN(nn.Module):\n",
    "    def __init__(self, input_size, hidden_size, output_size):  # three inputs to the initialisation function\n",
    "        super(RNN, self).__init__()\n",
    "\n",
    "        self.hidden_size = hidden_size   # number of input features to the hidden layer\n",
    "\n",
    "        self.i2h = nn.Linear(input_size + hidden_size, hidden_size)  # first linear layer to hold internal state of the cell\n",
    "        self.i2o = nn.Linear(input_size + hidden_size, output_size)  # linear layer to produce output\n",
    "        self.softmax = nn.LogSoftmax(dim=1)  # log softmax to calculate output probabilities\n",
    "\n",
    "    def forward(self, input, hidden):   # forward pass\n",
    "        combined = torch.cat((input, hidden), 1)  # concat to produce a combined tensor\n",
    "        hidden = self.i2h(combined)    # pass to the first hidden layer\n",
    "        output = self.i2o(combined)    \n",
    "        output = self.softmax(output)  # pass through log softmax layer\n",
    "        return output, hidden\n",
    "\n",
    "    def initHidden(self):  # function to return a zero tensor to initialise hidden state\n",
    "        return torch.zeros(1, self.hidden_size)"
   ]
  },
  {
   "cell_type": "code",
   "execution_count": 31,
   "id": "e5a1f69c",
   "metadata": {},
   "outputs": [],
   "source": [
    "# Define parameters\n",
    "n_hidden = 128\n",
    "n_genders= len(genders)\n",
    "\n",
    "rnn = RNN(num_lets, n_hidden, output_size = n_genders)"
   ]
  },
  {
   "cell_type": "code",
   "execution_count": 33,
   "id": "2eaecdd7",
   "metadata": {},
   "outputs": [],
   "source": [
    "# Set epochs, loss criterion and learning rate\n",
    "epochs = 100000\n",
    "criterion = nn.NLLLoss()\n",
    "learning_rate = 0.005"
   ]
  },
  {
   "cell_type": "code",
   "execution_count": 34,
   "id": "48741107",
   "metadata": {},
   "outputs": [],
   "source": [
    "# Function to return results\n",
    "def output_to_gender (output):\n",
    "    \n",
    "    top_n, top_index = output.topk(1)\n",
    "    pred_i = top_index[0].item()\n",
    "    pred = genders[pred_i] \n",
    "    \n",
    "    return pred"
   ]
  },
  {
   "cell_type": "code",
   "execution_count": 39,
   "id": "66d72cad",
   "metadata": {},
   "outputs": [
    {
     "name": "stderr",
     "output_type": "stream",
     "text": [
      "C:\\Users\\imoge\\AppData\\Local\\Temp/ipykernel_17164/4238789885.py:21: UserWarning: This overload of add_ is deprecated:\n",
      "\tadd_(Number alpha, Tensor other)\n",
      "Consider using one of the following signatures instead:\n",
      "\tadd_(Tensor other, *, Number alpha) (Triggered internally at  ..\\torch\\csrc\\utils\\python_arg_parser.cpp:1050.)\n",
      "  p.data.add_(-learning_rate, p.grad.data)\n"
     ]
    },
    {
     "name": "stdout",
     "output_type": "stream",
     "text": [
      "iters- 5000 5% (0.0975315272808075) Name- Romonda Gender- Female ✓\n",
      "iters- 10000 10% (0.5856207609176636) Name- Shalom Gender- Male ✓\n",
      "iters- 15000 15% (0.4988815188407898) Name- Marthe Gender- Female ✓\n",
      "iters- 20000 20% (3.3569939136505127) Name- Sasha Gender- Female ✗ (Male)\n",
      "iters- 25000 25% (0.8899624943733215) Name- Ezequiel Gender- Female ✗ (Male)\n",
      "iters- 30000 30% (0.16372212767601013) Name- Else Gender- Female ✓\n",
      "iters- 35000 35% (0.8744443655014038) Name- Sau Gender- Male ✗ (Female)\n",
      "iters- 40000 40% (0.021847642958164215) Name- Pepita Gender- Female ✓\n",
      "iters- 45000 45% (0.029738960787653923) Name- Nada Gender- Female ✓\n",
      "iters- 50000 50% (0.007161897141486406) Name- Lakisha Gender- Female ✓\n",
      "iters- 55000 55% (0.26044273376464844) Name- Elsy Gender- Female ✓\n",
      "iters- 60000 60% (0.7671680450439453) Name- Tracee Gender- Male ✗ (Female)\n",
      "iters- 65000 65% (0.2540318965911865) Name- Radcliffe Gender- Male ✓\n",
      "iters- 70000 70% (0.23865412175655365) Name- Caldwell Gender- Male ✓\n",
      "iters- 75000 75% (0.43730252981185913) Name- Craig Gender- Male ✓\n",
      "iters- 80000 80% (1.2233614921569824) Name- Aggy Gender- Male ✗ (Female)\n",
      "iters- 85000 85% (0.3034404218196869) Name- Cherish Gender- Female ✓\n",
      "iters- 90000 90% (0.4838654100894928) Name- Toddie Gender- Male ✓\n",
      "iters- 95000 95% (0.07279831916093826) Name- Travis Gender- Male ✓\n",
      "iters- 100000 100% (0.4513625502586365) Name- Dominque Gender- Female ✓\n"
     ]
    }
   ],
   "source": [
    "# Model training\n",
    "for iteration in range(1 , iterations +1):\n",
    "\n",
    "    i = random.randint(0, len(df) - 1)\n",
    "    \n",
    "    name = df.iloc[i][0]\n",
    "    name_in_tensor = name_to_tensor(name)\n",
    "    \n",
    "    gender = df.iloc[i][1]\n",
    "    gender_in_tensor = torch.LongTensor([gender])\n",
    "    \n",
    "    hidden = rnn.initHidden()\n",
    "    rnn.zero_grad()\n",
    "\n",
    "    for i in range(name_in_tensor.size()[0]):\n",
    "        output, hidden = rnn(name_in_tensor[i], hidden)\n",
    "\n",
    "    loss = criterion(output, gender_in_tensor)\n",
    "    loss.backward()\n",
    "    \n",
    "    for p in rnn.parameters():\n",
    "        p.data.add_(-learning_rate, p.grad.data)\n",
    "\n",
    "    if iteration% 5000 == 0:\n",
    "        \n",
    "        pred = output_to_gender(output)\n",
    "        \n",
    "        correct = '✓' if pred == genders[gender] else '✗ (%s)' % genders[gender]\n",
    "        print('iters- %d %d%% (%s) Name- %s Gender- %s %s' % \\\n",
    "              (iteration, iteration/iterations*100, loss.item(), name, pred, correct))\n"
   ]
  },
  {
   "cell_type": "markdown",
   "id": "2ee8613d",
   "metadata": {},
   "source": [
    "* choose name at random and convert this to a tensor\n",
    "* convert the label to tensor\n",
    "* initialise hidden layers\n",
    "* predict for each character in the name and then get final prediction based on all the characters"
   ]
  },
  {
   "cell_type": "code",
   "execution_count": 42,
   "id": "6835019a",
   "metadata": {},
   "outputs": [],
   "source": [
    "n_confusion = 10000\n",
    "\n",
    "prediction=[]\n",
    "actual = []\n",
    "\n",
    "for _ in range(n_confusion):\n",
    "\n",
    "    i = random.randint(0, len(df) - 1)\n",
    "    \n",
    "    name = df.iloc[i][0]\n",
    "    name_in_tensor = name_to_tensor(name)\n",
    "    \n",
    "    gender_idx = df.iloc[i][1]\n",
    "    gender_in_tensor = torch.LongTensor([gender_idx])\n",
    "        \n",
    "    hidden = rnn.initHidden()\n",
    "\n",
    "    for j in range(name_in_tensor.size()[0]):\n",
    "        output, hidden = rnn(name_in_tensor[j], hidden)\n",
    "    \n",
    "    pred = output_to_gender(output)\n",
    "    \n",
    "    prediction.append(pred)\n",
    "    actual.append(genders[gender_idx])"
   ]
  },
  {
   "cell_type": "code",
   "execution_count": 64,
   "id": "bd0d2d01",
   "metadata": {},
   "outputs": [
    {
     "name": "stdout",
     "output_type": "stream",
     "text": [
      "Accuracy 82.27\n"
     ]
    }
   ],
   "source": [
    "results = pd.DataFrame(actual,prediction).reset_index()\n",
    "results.columns = [\"Actual\",\"Predicted\"]\n",
    "acc = results[results[\"Actual\"] == results[\"Predicted\"]].shape[0]/len(results)*100\n",
    "print(\"Accuracy\", acc)"
   ]
  }
 ],
 "metadata": {
  "kernelspec": {
   "display_name": "Python 3 (ipykernel)",
   "language": "python",
   "name": "python3"
  },
  "language_info": {
   "codemirror_mode": {
    "name": "ipython",
    "version": 3
   },
   "file_extension": ".py",
   "mimetype": "text/x-python",
   "name": "python",
   "nbconvert_exporter": "python",
   "pygments_lexer": "ipython3",
   "version": "3.8.12"
  }
 },
 "nbformat": 4,
 "nbformat_minor": 5
}
